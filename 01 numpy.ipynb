{
 "cells": [
  {
   "cell_type": "code",
   "execution_count": 1,
   "id": "682fd179-9fda-481c-a1df-3dd41d0ca114",
   "metadata": {},
   "outputs": [],
   "source": [
    "import numpy as np"
   ]
  },
  {
   "cell_type": "code",
   "execution_count": 2,
   "id": "c7146bd9-166c-4267-868d-11c11930c57d",
   "metadata": {},
   "outputs": [],
   "source": [
    "num = np.array([67,44,23,15,78,99])"
   ]
  },
  {
   "cell_type": "code",
   "execution_count": 3,
   "id": "6ab1bcbd-2e04-4a5a-887d-3c3b730e1a0a",
   "metadata": {},
   "outputs": [
    {
     "data": {
      "text/plain": [
       "array([67, 44, 23, 15, 78, 99])"
      ]
     },
     "execution_count": 3,
     "metadata": {},
     "output_type": "execute_result"
    }
   ],
   "source": [
    "num"
   ]
  },
  {
   "cell_type": "code",
   "execution_count": 4,
   "id": "70196d02-8449-4cfb-9563-f3d18e6768ca",
   "metadata": {},
   "outputs": [
    {
     "data": {
      "text/plain": [
       "dtype('int64')"
      ]
     },
     "execution_count": 4,
     "metadata": {},
     "output_type": "execute_result"
    }
   ],
   "source": [
    "num.dtype"
   ]
  },
  {
   "cell_type": "code",
   "execution_count": 5,
   "id": "b5439acd-4026-4d40-81da-e76ddfa55114",
   "metadata": {},
   "outputs": [
    {
     "data": {
      "text/plain": [
       "99"
      ]
     },
     "execution_count": 5,
     "metadata": {},
     "output_type": "execute_result"
    }
   ],
   "source": [
    "num.max()"
   ]
  },
  {
   "cell_type": "code",
   "execution_count": 6,
   "id": "c8d29a35-b3a8-4d4b-ba9a-4b88e3c4c808",
   "metadata": {},
   "outputs": [
    {
     "data": {
      "text/plain": [
       "array([201, 132,  69,  45, 234, 297])"
      ]
     },
     "execution_count": 6,
     "metadata": {},
     "output_type": "execute_result"
    }
   ],
   "source": [
    "num * 3"
   ]
  },
  {
   "cell_type": "code",
   "execution_count": 7,
   "id": "d45fe021-8cef-4275-a47f-2755c4724a9e",
   "metadata": {},
   "outputs": [
    {
     "data": {
      "text/plain": [
       "array([False, False,  True,  True, False, False])"
      ]
     },
     "execution_count": 7,
     "metadata": {},
     "output_type": "execute_result"
    }
   ],
   "source": [
    "num < 30"
   ]
  },
  {
   "cell_type": "code",
   "execution_count": 8,
   "id": "5d8f44d8-6ed1-4fc5-8c9d-b99ea2d1ab34",
   "metadata": {},
   "outputs": [
    {
     "data": {
      "text/plain": [
       "array([23, 15])"
      ]
     },
     "execution_count": 8,
     "metadata": {},
     "output_type": "execute_result"
    }
   ],
   "source": [
    "num[num<30]"
   ]
  },
  {
   "cell_type": "code",
   "execution_count": 9,
   "id": "ff349241-51b7-420e-b2df-396b16bc2965",
   "metadata": {},
   "outputs": [],
   "source": [
    "M = np.array([[5,6,7],[2,8,7]])"
   ]
  },
  {
   "cell_type": "code",
   "execution_count": 10,
   "id": "25bbea3f-4ac7-4c00-a9ba-dab8aadd627c",
   "metadata": {},
   "outputs": [
    {
     "data": {
      "text/plain": [
       "array([[5, 6, 7],\n",
       "       [2, 8, 7]])"
      ]
     },
     "execution_count": 10,
     "metadata": {},
     "output_type": "execute_result"
    }
   ],
   "source": [
    "M"
   ]
  },
  {
   "cell_type": "code",
   "execution_count": 11,
   "id": "98c5739f-1e0f-49b9-a7a9-716ca1bef448",
   "metadata": {},
   "outputs": [
    {
     "data": {
      "text/plain": [
       "array([5, 8])"
      ]
     },
     "execution_count": 11,
     "metadata": {},
     "output_type": "execute_result"
    }
   ],
   "source": [
    "M.diagonal()"
   ]
  },
  {
   "cell_type": "markdown",
   "id": "e001e77f-2c18-4387-9d70-c8d3ab572e7b",
   "metadata": {},
   "source": [
    "#### Descriptive Statistics"
   ]
  },
  {
   "cell_type": "code",
   "execution_count": 13,
   "id": "1fdcd11a-4df3-457d-8646-71c998c0f048",
   "metadata": {},
   "outputs": [],
   "source": [
    "num = np.array([54,23,11,56,32,67,88])"
   ]
  },
  {
   "cell_type": "code",
   "execution_count": 14,
   "id": "ad6ce91e-933f-428a-8b74-213b85947fc9",
   "metadata": {},
   "outputs": [
    {
     "data": {
      "text/plain": [
       "47.285714285714285"
      ]
     },
     "execution_count": 14,
     "metadata": {},
     "output_type": "execute_result"
    }
   ],
   "source": [
    "num.mean()"
   ]
  },
  {
   "cell_type": "code",
   "execution_count": 16,
   "id": "d9bd6839-d0ba-4ec5-b859-3a8143675846",
   "metadata": {},
   "outputs": [
    {
     "data": {
      "text/plain": [
       "54.0"
      ]
     },
     "execution_count": 16,
     "metadata": {},
     "output_type": "execute_result"
    }
   ],
   "source": [
    "np.median(num)"
   ]
  },
  {
   "cell_type": "code",
   "execution_count": 17,
   "id": "ebdefae7-92e2-4d89-8798-dde7d21df209",
   "metadata": {},
   "outputs": [],
   "source": [
    "from collections import Counter"
   ]
  },
  {
   "cell_type": "code",
   "execution_count": 18,
   "id": "11290f2c-aabc-44bf-80a2-e26deff88d9a",
   "metadata": {},
   "outputs": [
    {
     "data": {
      "text/plain": [
       "Counter({0: 5, 1: 4})"
      ]
     },
     "execution_count": 18,
     "metadata": {},
     "output_type": "execute_result"
    }
   ],
   "source": [
    "x = np.array([0,0,1,0,1,0,0,1,1])\n",
    "Counter(x)"
   ]
  },
  {
   "cell_type": "code",
   "execution_count": 19,
   "id": "77ac3057-e7d2-4957-8412-53a48afcf1cf",
   "metadata": {},
   "outputs": [
    {
     "data": {
      "text/plain": [
       "array([54, 23, 11, 56, 32, 67, 88])"
      ]
     },
     "execution_count": 19,
     "metadata": {},
     "output_type": "execute_result"
    }
   ],
   "source": [
    "num"
   ]
  },
  {
   "cell_type": "code",
   "execution_count": 22,
   "id": "31922fe5-82eb-4bcc-ab70-cf6ffd59e58d",
   "metadata": {},
   "outputs": [
    {
     "data": {
      "text/plain": [
       "21.6734693877551"
      ]
     },
     "execution_count": 22,
     "metadata": {},
     "output_type": "execute_result"
    }
   ],
   "source": [
    "np.mean(abs(num - num.mean()))"
   ]
  },
  {
   "cell_type": "code",
   "execution_count": 23,
   "id": "a4ae40da-b655-4558-92db-b55412215d22",
   "metadata": {},
   "outputs": [
    {
     "data": {
      "text/plain": [
       "array([540, 230, 110, 560, 320, 670, 880])"
      ]
     },
     "execution_count": 23,
     "metadata": {},
     "output_type": "execute_result"
    }
   ],
   "source": [
    "num1 = num * 10\n",
    "num1"
   ]
  },
  {
   "cell_type": "code",
   "execution_count": 24,
   "id": "51a74692-0b79-48b2-bac2-4a357a017398",
   "metadata": {},
   "outputs": [
    {
     "data": {
      "text/plain": [
       "216.73469387755102"
      ]
     },
     "execution_count": 24,
     "metadata": {},
     "output_type": "execute_result"
    }
   ],
   "source": [
    "np.mean(abs(num1 - num1.mean()))"
   ]
  },
  {
   "cell_type": "code",
   "execution_count": 26,
   "id": "cde40c6d-515f-4bb4-9e3a-b2335b85946b",
   "metadata": {},
   "outputs": [
    {
     "data": {
      "text/plain": [
       "615.3469387755102"
      ]
     },
     "execution_count": 26,
     "metadata": {},
     "output_type": "execute_result"
    }
   ],
   "source": [
    "# variance\n",
    "np.mean((num - num.mean()) ** 2)"
   ]
  },
  {
   "cell_type": "code",
   "execution_count": 27,
   "id": "82956895-765a-4ed0-9113-2793d8f1004d",
   "metadata": {},
   "outputs": [
    {
     "data": {
      "text/plain": [
       "615.3469387755102"
      ]
     },
     "execution_count": 27,
     "metadata": {},
     "output_type": "execute_result"
    }
   ],
   "source": [
    "np.var(num)"
   ]
  },
  {
   "cell_type": "code",
   "execution_count": 28,
   "id": "0ba07837-d306-488e-a265-a93241f2420a",
   "metadata": {},
   "outputs": [
    {
     "data": {
      "text/plain": [
       "24.806187509883703"
      ]
     },
     "execution_count": 28,
     "metadata": {},
     "output_type": "execute_result"
    }
   ],
   "source": [
    "np.sqrt(np.mean((num - num.mean()) ** 2))"
   ]
  },
  {
   "cell_type": "code",
   "execution_count": 29,
   "id": "857e1041-6432-45ce-9f3d-4bc9c062421a",
   "metadata": {},
   "outputs": [
    {
     "data": {
      "text/plain": [
       "24.806187509883703"
      ]
     },
     "execution_count": 29,
     "metadata": {},
     "output_type": "execute_result"
    }
   ],
   "source": [
    "num.std()"
   ]
  },
  {
   "cell_type": "code",
   "execution_count": null,
   "id": "84d78099-faf0-4a67-8f3e-85cc55260949",
   "metadata": {},
   "outputs": [],
   "source": []
  }
 ],
 "metadata": {
  "kernelspec": {
   "display_name": "Python 3 (ipykernel)",
   "language": "python",
   "name": "python3"
  },
  "language_info": {
   "codemirror_mode": {
    "name": "ipython",
    "version": 3
   },
   "file_extension": ".py",
   "mimetype": "text/x-python",
   "name": "python",
   "nbconvert_exporter": "python",
   "pygments_lexer": "ipython3",
   "version": "3.10.12"
  }
 },
 "nbformat": 4,
 "nbformat_minor": 5
}
