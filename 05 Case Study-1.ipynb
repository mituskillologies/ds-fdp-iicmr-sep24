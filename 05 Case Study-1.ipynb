{
 "cells": [
  {
   "cell_type": "code",
   "execution_count": 1,
   "id": "769c276a-14c7-4076-bb7b-5a015062c243",
   "metadata": {},
   "outputs": [],
   "source": [
    "import pandas as pd\n",
    "import matplotlib.pyplot as plt"
   ]
  },
  {
   "cell_type": "markdown",
   "id": "830ac653-972e-48e0-84b3-d5b95d48d397",
   "metadata": {},
   "source": [
    "##### 1. Read the file in DataFrame"
   ]
  },
  {
   "cell_type": "code",
   "execution_count": 4,
   "id": "1227c4c6-0547-4318-84b8-5ffb668c039d",
   "metadata": {},
   "outputs": [],
   "source": [
    "df = pd.read_csv('cricket.csv')"
   ]
  },
  {
   "cell_type": "code",
   "execution_count": 5,
   "id": "3991d5da-8ca8-4df8-97ec-d062379d440a",
   "metadata": {},
   "outputs": [
    {
     "data": {
      "text/plain": [
       "Index(['sr.no', 'name', 'matches', 'runs', 'catches', 'wickets', 'stumpings'], dtype='object')"
      ]
     },
     "execution_count": 5,
     "metadata": {},
     "output_type": "execute_result"
    }
   ],
   "source": [
    "df.columns"
   ]
  },
  {
   "cell_type": "markdown",
   "id": "58186c11-0d01-470c-ad5a-1344b849817f",
   "metadata": {},
   "source": [
    "##### 2. List the name of cricketer and their respective runs"
   ]
  },
  {
   "cell_type": "code",
   "execution_count": 7,
   "id": "fe7f7396-de63-4d7b-a3c0-880598756093",
   "metadata": {},
   "outputs": [
    {
     "data": {
      "text/html": [
       "<div>\n",
       "<style scoped>\n",
       "    .dataframe tbody tr th:only-of-type {\n",
       "        vertical-align: middle;\n",
       "    }\n",
       "\n",
       "    .dataframe tbody tr th {\n",
       "        vertical-align: top;\n",
       "    }\n",
       "\n",
       "    .dataframe thead th {\n",
       "        text-align: right;\n",
       "    }\n",
       "</style>\n",
       "<table border=\"1\" class=\"dataframe\">\n",
       "  <thead>\n",
       "    <tr style=\"text-align: right;\">\n",
       "      <th></th>\n",
       "      <th>name</th>\n",
       "      <th>runs</th>\n",
       "    </tr>\n",
       "  </thead>\n",
       "  <tbody>\n",
       "    <tr>\n",
       "      <th>0</th>\n",
       "      <td>Anil Dalpat</td>\n",
       "      <td>6755</td>\n",
       "    </tr>\n",
       "    <tr>\n",
       "      <th>1</th>\n",
       "      <td>Rohan Kanhay</td>\n",
       "      <td>1256</td>\n",
       "    </tr>\n",
       "    <tr>\n",
       "      <th>2</th>\n",
       "      <td>Avdhoot Dighe</td>\n",
       "      <td>8954</td>\n",
       "    </tr>\n",
       "    <tr>\n",
       "      <th>3</th>\n",
       "      <td>Bahubali</td>\n",
       "      <td>756</td>\n",
       "    </tr>\n",
       "    <tr>\n",
       "      <th>4</th>\n",
       "      <td>Leeladhar</td>\n",
       "      <td>2866</td>\n",
       "    </tr>\n",
       "    <tr>\n",
       "      <th>5</th>\n",
       "      <td>Pradyumna</td>\n",
       "      <td>5877</td>\n",
       "    </tr>\n",
       "    <tr>\n",
       "      <th>6</th>\n",
       "      <td>Dinesh Roy</td>\n",
       "      <td>8537</td>\n",
       "    </tr>\n",
       "    <tr>\n",
       "      <th>7</th>\n",
       "      <td>Parmeshwar</td>\n",
       "      <td>9466</td>\n",
       "    </tr>\n",
       "    <tr>\n",
       "      <th>8</th>\n",
       "      <td>Ali Durrani</td>\n",
       "      <td>2756</td>\n",
       "    </tr>\n",
       "    <tr>\n",
       "      <th>9</th>\n",
       "      <td>Litesh Singh</td>\n",
       "      <td>1099</td>\n",
       "    </tr>\n",
       "  </tbody>\n",
       "</table>\n",
       "</div>"
      ],
      "text/plain": [
       "            name  runs\n",
       "0    Anil Dalpat  6755\n",
       "1   Rohan Kanhay  1256\n",
       "2  Avdhoot Dighe  8954\n",
       "3       Bahubali   756\n",
       "4      Leeladhar  2866\n",
       "5      Pradyumna  5877\n",
       "6     Dinesh Roy  8537\n",
       "7     Parmeshwar  9466\n",
       "8    Ali Durrani  2756\n",
       "9   Litesh Singh  1099"
      ]
     },
     "execution_count": 7,
     "metadata": {},
     "output_type": "execute_result"
    }
   ],
   "source": [
    "df[['name','runs']]"
   ]
  },
  {
   "cell_type": "markdown",
   "id": "bbb12d5a-8a4d-4766-9924-3bc5de639580",
   "metadata": {},
   "source": [
    "##### 3. Find total wickets taken by them"
   ]
  },
  {
   "cell_type": "code",
   "execution_count": 9,
   "id": "251e30b7-8a27-4784-8fcc-ca96d090d70d",
   "metadata": {},
   "outputs": [
    {
     "data": {
      "text/plain": [
       "790"
      ]
     },
     "execution_count": 9,
     "metadata": {},
     "output_type": "execute_result"
    }
   ],
   "source": [
    "df['wickets'].sum()"
   ]
  },
  {
   "cell_type": "markdown",
   "id": "30174262-59f9-4933-beec-28a27dc92be7",
   "metadata": {},
   "source": [
    "##### 4. Find average of catches taken"
   ]
  },
  {
   "cell_type": "code",
   "execution_count": 12,
   "id": "338ce894-4566-415c-a885-813b527f1c5c",
   "metadata": {},
   "outputs": [
    {
     "data": {
      "text/plain": [
       "63.3"
      ]
     },
     "execution_count": 12,
     "metadata": {},
     "output_type": "execute_result"
    }
   ],
   "source": [
    "df['catches'].mean()"
   ]
  },
  {
   "cell_type": "markdown",
   "id": "55a481a7-3323-4896-b165-da46d82f71b3",
   "metadata": {},
   "source": [
    "##### 5. Find the name of wicketkeeper"
   ]
  },
  {
   "cell_type": "code",
   "execution_count": 17,
   "id": "61566ff1-d207-4243-a109-807716bbf80a",
   "metadata": {},
   "outputs": [
    {
     "data": {
      "text/plain": [
       "3    Bahubali\n",
       "Name: name, dtype: object"
      ]
     },
     "execution_count": 17,
     "metadata": {},
     "output_type": "execute_result"
    }
   ],
   "source": [
    "df[df['stumpings'] > 0]['name']"
   ]
  },
  {
   "cell_type": "markdown",
   "id": "36436b37-129b-4a8f-8430-96a3aa2f6cef",
   "metadata": {},
   "source": [
    "##### 6. Print the name of bowler who played highest number of matches"
   ]
  },
  {
   "cell_type": "code",
   "execution_count": 31,
   "id": "85619930-f289-41c0-bb0e-de3ea30022d7",
   "metadata": {},
   "outputs": [
    {
     "data": {
      "text/plain": [
       "'Leeladhar'"
      ]
     },
     "execution_count": 31,
     "metadata": {},
     "output_type": "execute_result"
    }
   ],
   "source": [
    "df[df['matches'] == df[df['wickets'] > 0]['matches'].max()]['name'].values[0]"
   ]
  },
  {
   "cell_type": "markdown",
   "id": "1ff0aca3-3fb4-4f2e-b75d-c5c16244267c",
   "metadata": {},
   "source": [
    "##### 7. Find average of all the bowlers (wickets / match)"
   ]
  },
  {
   "cell_type": "code",
   "execution_count": 36,
   "id": "54ed3973-08db-41cd-9d27-aeddfbcc542f",
   "metadata": {},
   "outputs": [
    {
     "name": "stderr",
     "output_type": "stream",
     "text": [
      "/tmp/ipykernel_52341/2305635713.py:2: SettingWithCopyWarning: \n",
      "A value is trying to be set on a copy of a slice from a DataFrame.\n",
      "Try using .loc[row_indexer,col_indexer] = value instead\n",
      "\n",
      "See the caveats in the documentation: https://pandas.pydata.org/pandas-docs/stable/user_guide/indexing.html#returning-a-view-versus-a-copy\n",
      "  new['Average'] = new['wickets'] / new['matches']   # find average of bowlers\n"
     ]
    },
    {
     "data": {
      "text/html": [
       "<div>\n",
       "<style scoped>\n",
       "    .dataframe tbody tr th:only-of-type {\n",
       "        vertical-align: middle;\n",
       "    }\n",
       "\n",
       "    .dataframe tbody tr th {\n",
       "        vertical-align: top;\n",
       "    }\n",
       "\n",
       "    .dataframe thead th {\n",
       "        text-align: right;\n",
       "    }\n",
       "</style>\n",
       "<table border=\"1\" class=\"dataframe\">\n",
       "  <thead>\n",
       "    <tr style=\"text-align: right;\">\n",
       "      <th></th>\n",
       "      <th>name</th>\n",
       "      <th>Average</th>\n",
       "    </tr>\n",
       "  </thead>\n",
       "  <tbody>\n",
       "    <tr>\n",
       "      <th>0</th>\n",
       "      <td>Anil Dalpat</td>\n",
       "      <td>0.098361</td>\n",
       "    </tr>\n",
       "    <tr>\n",
       "      <th>1</th>\n",
       "      <td>Rohan Kanhay</td>\n",
       "      <td>1.236111</td>\n",
       "    </tr>\n",
       "    <tr>\n",
       "      <th>3</th>\n",
       "      <td>Bahubali</td>\n",
       "      <td>1.100000</td>\n",
       "    </tr>\n",
       "    <tr>\n",
       "      <th>4</th>\n",
       "      <td>Leeladhar</td>\n",
       "      <td>1.606838</td>\n",
       "    </tr>\n",
       "    <tr>\n",
       "      <th>5</th>\n",
       "      <td>Pradyumna</td>\n",
       "      <td>0.689266</td>\n",
       "    </tr>\n",
       "    <tr>\n",
       "      <th>6</th>\n",
       "      <td>Dinesh Roy</td>\n",
       "      <td>0.075829</td>\n",
       "    </tr>\n",
       "    <tr>\n",
       "      <th>8</th>\n",
       "      <td>Ali Durrani</td>\n",
       "      <td>0.472727</td>\n",
       "    </tr>\n",
       "    <tr>\n",
       "      <th>9</th>\n",
       "      <td>Litesh Singh</td>\n",
       "      <td>0.550562</td>\n",
       "    </tr>\n",
       "  </tbody>\n",
       "</table>\n",
       "</div>"
      ],
      "text/plain": [
       "           name   Average\n",
       "0   Anil Dalpat  0.098361\n",
       "1  Rohan Kanhay  1.236111\n",
       "3      Bahubali  1.100000\n",
       "4     Leeladhar  1.606838\n",
       "5     Pradyumna  0.689266\n",
       "6    Dinesh Roy  0.075829\n",
       "8   Ali Durrani  0.472727\n",
       "9  Litesh Singh  0.550562"
      ]
     },
     "execution_count": 36,
     "metadata": {},
     "output_type": "execute_result"
    }
   ],
   "source": [
    "new = df[df['wickets'] > 0]  # extract bowlers\n",
    "new['Average'] = new['wickets'] / new['matches']   # find average of bowlers\n",
    "new[['name','Average']]   # print name and average"
   ]
  },
  {
   "cell_type": "markdown",
   "id": "1e837e45-3e15-4c2d-9be1-77fe8fc07be6",
   "metadata": {},
   "source": [
    "##### 8. Find name of the bowler with least bowling average (wickets per match)."
   ]
  },
  {
   "cell_type": "code",
   "execution_count": 42,
   "id": "d74e0422-c4cd-4e82-9356-f062be36495b",
   "metadata": {},
   "outputs": [
    {
     "data": {
      "text/plain": [
       "'Dinesh Roy'"
      ]
     },
     "execution_count": 42,
     "metadata": {},
     "output_type": "execute_result"
    }
   ],
   "source": [
    "new[new['Average'] == new['Average'].min()].name.values[0]"
   ]
  },
  {
   "cell_type": "markdown",
   "id": "68b732d8-8d63-4257-ab38-7c36a29c0828",
   "metadata": {},
   "source": [
    "##### 9. Print information about all players whose catches per match ratio is greater than 0.5 store it in a csv file."
   ]
  },
  {
   "cell_type": "code",
   "execution_count": 47,
   "id": "5870425c-1871-4c6b-8f91-e31497d39c19",
   "metadata": {},
   "outputs": [],
   "source": [
    "newdf = df[df['catches'] / df['matches'] > 0.5]\n",
    "newdf.to_csv('great_catches.csv', index = False)"
   ]
  },
  {
   "cell_type": "markdown",
   "id": "39fb883d-43c9-4a2f-8528-6de9b7cd6281",
   "metadata": {},
   "source": [
    "##### 10. Draw the bar chart of player name against their runs."
   ]
  },
  {
   "cell_type": "code",
   "execution_count": 49,
   "id": "37f31db5-b379-4184-a877-d27bfeaa7723",
   "metadata": {},
   "outputs": [
    {
     "data": {
      "text/plain": [
       "<BarContainer object of 10 artists>"
      ]
     },
     "execution_count": 49,
     "metadata": {},
     "output_type": "execute_result"
    },
    {
     "data": {
      "image/png": "[encoded data removed]",
      "text/plain": [
       "<Figure size 640x480 with 1 Axes>"
      ]
     },
     "metadata": {},
     "output_type": "display_data"
    }
   ],
   "source": [
    "plt.barh(df['name'], df['runs'])"
   ]
  },
  {
   "cell_type": "markdown",
   "id": "e86df5a3-bb96-4aab-a042-dcecee408ae4",
   "metadata": {},
   "source": [
    "##### 11. Draw pie chart for wickets and label them by bowlers name."
   ]
  },
  {
   "cell_type": "code",
   "execution_count": 54,
   "id": "019bcd63-f85f-4d4f-9b9f-9220481c098b",
   "metadata": {},
   "outputs": [
    {
     "data": {
      "image/png": "[encoded data removed]",
      "text/plain": [
       "<Figure size 640x480 with 1 Axes>"
      ]
     },
     "metadata": {},
     "output_type": "display_data"
    }
   ],
   "source": [
    "plt.pie(new['wickets'], labels=new['name'], autopct='%2.2f%%');"
   ]
  },
  {
   "cell_type": "markdown",
   "id": "678ab9df-eb5f-4681-be34-4c9ada3e7561",
   "metadata": {},
   "source": [
    "##### 12. Print the names of players whose wickets are greater than matches"
   ]
  },
  {
   "cell_type": "code",
   "execution_count": 60,
   "id": "dc112f97-a516-4e47-8985-dd32fccef520",
   "metadata": {},
   "outputs": [
    {
     "name": "stdout",
     "output_type": "stream",
     "text": [
      "['Rohan Kanhay' 'Bahubali' 'Leeladhar']\n"
     ]
    }
   ],
   "source": [
    "print(df[df['wickets'] > df['matches']].name.values)"
   ]
  },
  {
   "cell_type": "code",
   "execution_count": 63,
   "id": "7d2803ac-0159-4a7d-b8af-61c2ed3875ea",
   "metadata": {},
   "outputs": [
    {
     "data": {
      "text/plain": [
       "array([6755, 1256, 8954,  756, 2866, 5877, 8537, 9466, 2756, 1099])"
      ]
     },
     "execution_count": 63,
     "metadata": {},
     "output_type": "execute_result"
    }
   ],
   "source": [
    "df.runs.values"
   ]
  },
  {
   "cell_type": "code",
   "execution_count": null,
   "id": "a58ea1db-305e-425b-9ea3-8f9e494cdc40",
   "metadata": {},
   "outputs": [],
   "source": []
  }
 ],
 "metadata": {
  "kernelspec": {
   "display_name": "Python 3 (ipykernel)",
   "language": "python",
   "name": "python3"
  },
  "language_info": {
   "codemirror_mode": {
    "name": "ipython",
    "version": 3
   },
   "file_extension": ".py",
   "mimetype": "text/x-python",
   "name": "python",
   "nbconvert_exporter": "python",
   "pygments_lexer": "ipython3",
   "version": "3.10.12"
  }
 },
 "nbformat": 4,
 "nbformat_minor": 5
}
